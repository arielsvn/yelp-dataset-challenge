{
 "cells": [
  {
   "cell_type": "code",
   "execution_count": 1,
   "metadata": {
    "collapsed": true
   },
   "outputs": [],
   "source": [
    "import json\n",
    "import pandas as pd"
   ]
  },
  {
   "cell_type": "code",
   "execution_count": 2,
   "metadata": {
    "collapsed": false
   },
   "outputs": [],
   "source": [
    "# Raw reviews data file as received from Yelp\n",
    "all_reviews_file = '../raw-data/yelp_academic_dataset_review.json'\n",
    "\n",
    "# First 10 lines of the raw reviews data file just for testing purposes\n",
    "first_10_file = '../preprocessed-data/first_10_reviews.json'"
   ]
  },
  {
   "cell_type": "code",
   "execution_count": 3,
   "metadata": {
    "collapsed": true
   },
   "outputs": [],
   "source": [
    "def get_full_df(json_file_name, n_rows=None):\n",
    "    \"\"\" Returns a pandas.DataFrame with all data from first <n_rows> rows of <json_file_name>,\n",
    "    if <n_rows> is defined, or all data from the whole file if <n_rows> is not defined \"\"\"\n",
    "    with open(json_file_name, 'r') as f:\n",
    "        if n_rows is None:\n",
    "            df = pd.DataFrame([json.loads(line) for line in f])\n",
    "        else:\n",
    "            df = pd.DataFrame([json.loads(next(f)) for i in range(n_rows)])\n",
    "    return df"
   ]
  },
  {
   "cell_type": "code",
   "execution_count": 4,
   "metadata": {
    "collapsed": true
   },
   "outputs": [],
   "source": [
    "def _get_dict_from_line(line):\n",
    "    \"\"\" Helper function for get_text_and_stars_df() that gets a dictionary of just\n",
    "    the text and number of stars from the full dictionary for one review \"\"\"\n",
    "    review_dict = json.loads(line)\n",
    "    sub_dict = {'text': review_dict['text'], 'stars': review_dict['stars']}\n",
    "    return sub_dict\n",
    "\n",
    "def get_text_and_stars_df(json_file_name, n_rows=None):\n",
    "    \"\"\" Returns a pandas.DataFrame with just the review text and number of stars\n",
    "    for each review from first <n_rows> rows of <json_file_name> if <n_rows> is defined,\n",
    "    or from the whole file if <n_rows> is not defined\"\"\"\n",
    "    with open(json_file_name, 'r') as f:\n",
    "        if n_rows is None:\n",
    "            df = pd.DataFrame([_get_dict_from_line(line) for line in f])\n",
    "        else:\n",
    "            df = pd.DataFrame([_get_dict_from_line(next(f)) for i in range(n_rows)])\n",
    "    return df"
   ]
  },
  {
   "cell_type": "markdown",
   "metadata": {},
   "source": [
    "# Test dataframe generators"
   ]
  },
  {
   "cell_type": "code",
   "execution_count": 5,
   "metadata": {
    "collapsed": false
   },
   "outputs": [
    {
     "data": {
      "text/html": [
       "<div>\n",
       "<table border=\"1\" class=\"dataframe\">\n",
       "  <thead>\n",
       "    <tr style=\"text-align: right;\">\n",
       "      <th></th>\n",
       "      <th>business_id</th>\n",
       "      <th>cool</th>\n",
       "      <th>date</th>\n",
       "      <th>funny</th>\n",
       "      <th>review_id</th>\n",
       "      <th>stars</th>\n",
       "      <th>text</th>\n",
       "      <th>type</th>\n",
       "      <th>useful</th>\n",
       "      <th>user_id</th>\n",
       "    </tr>\n",
       "  </thead>\n",
       "  <tbody>\n",
       "    <tr>\n",
       "      <th>0</th>\n",
       "      <td>2aFiy99vNLklCx3T_tGS9A</td>\n",
       "      <td>0</td>\n",
       "      <td>2011-10-10</td>\n",
       "      <td>0</td>\n",
       "      <td>NxL8SIC5yqOdnlXCg18IBg</td>\n",
       "      <td>5</td>\n",
       "      <td>If you enjoy service by someone who is as comp...</td>\n",
       "      <td>review</td>\n",
       "      <td>0</td>\n",
       "      <td>KpkOkG6RIf4Ra25Lhhxf1A</td>\n",
       "    </tr>\n",
       "    <tr>\n",
       "      <th>1</th>\n",
       "      <td>2aFiy99vNLklCx3T_tGS9A</td>\n",
       "      <td>0</td>\n",
       "      <td>2010-12-29</td>\n",
       "      <td>0</td>\n",
       "      <td>pXbbIgOXvLuTi_SPs1hQEQ</td>\n",
       "      <td>5</td>\n",
       "      <td>After being on the phone with Verizon Wireless...</td>\n",
       "      <td>review</td>\n",
       "      <td>1</td>\n",
       "      <td>bQ7fQq1otn9hKX-gXRsrgA</td>\n",
       "    </tr>\n",
       "    <tr>\n",
       "      <th>2</th>\n",
       "      <td>2aFiy99vNLklCx3T_tGS9A</td>\n",
       "      <td>0</td>\n",
       "      <td>2011-04-29</td>\n",
       "      <td>0</td>\n",
       "      <td>wslW2Lu4NYylb1jEapAGsw</td>\n",
       "      <td>5</td>\n",
       "      <td>Great service! Corey is very service oriented....</td>\n",
       "      <td>review</td>\n",
       "      <td>0</td>\n",
       "      <td>r1NUhdNmL6yU9Bn-Yx6FTw</td>\n",
       "    </tr>\n",
       "    <tr>\n",
       "      <th>3</th>\n",
       "      <td>2LfIuF3_sX6uwe-IR-P0jQ</td>\n",
       "      <td>1</td>\n",
       "      <td>2014-07-14</td>\n",
       "      <td>0</td>\n",
       "      <td>GP6YEearUWrzPtQYSF1vVg</td>\n",
       "      <td>5</td>\n",
       "      <td>Highly recommended. Went in yesterday looking ...</td>\n",
       "      <td>review</td>\n",
       "      <td>0</td>\n",
       "      <td>aW3ix1KNZAvoM8q-WghA3Q</td>\n",
       "    </tr>\n",
       "    <tr>\n",
       "      <th>4</th>\n",
       "      <td>2LfIuF3_sX6uwe-IR-P0jQ</td>\n",
       "      <td>0</td>\n",
       "      <td>2014-01-15</td>\n",
       "      <td>0</td>\n",
       "      <td>25RlYGq2s5qShi-pn3ufVA</td>\n",
       "      <td>4</td>\n",
       "      <td>I walked in here looking for a specific piece ...</td>\n",
       "      <td>review</td>\n",
       "      <td>0</td>\n",
       "      <td>YOo-Cip8HqvKp_p9nEGphw</td>\n",
       "    </tr>\n",
       "    <tr>\n",
       "      <th>5</th>\n",
       "      <td>2LfIuF3_sX6uwe-IR-P0jQ</td>\n",
       "      <td>1</td>\n",
       "      <td>2013-04-28</td>\n",
       "      <td>0</td>\n",
       "      <td>Uf1Ki1yyH_JDKhLvn2e4FQ</td>\n",
       "      <td>5</td>\n",
       "      <td>What a great place! Modern on Melrose has amaz...</td>\n",
       "      <td>review</td>\n",
       "      <td>2</td>\n",
       "      <td>bgl3j8yJcRO-00NkUYsXGQ</td>\n",
       "    </tr>\n",
       "    <tr>\n",
       "      <th>6</th>\n",
       "      <td>2LfIuF3_sX6uwe-IR-P0jQ</td>\n",
       "      <td>0</td>\n",
       "      <td>2014-10-12</td>\n",
       "      <td>0</td>\n",
       "      <td>oFmVZh-La7SuvpHrH_Al4Q</td>\n",
       "      <td>4</td>\n",
       "      <td>A hidden gem! Found a beautiful buffet for a g...</td>\n",
       "      <td>review</td>\n",
       "      <td>0</td>\n",
       "      <td>CWKF9de-nskLYEqDDCfubg</td>\n",
       "    </tr>\n",
       "    <tr>\n",
       "      <th>7</th>\n",
       "      <td>2LfIuF3_sX6uwe-IR-P0jQ</td>\n",
       "      <td>0</td>\n",
       "      <td>2012-09-18</td>\n",
       "      <td>0</td>\n",
       "      <td>bRvdVt88MJ_YMTlLbjDLxQ</td>\n",
       "      <td>5</td>\n",
       "      <td>This place is a great for those vintage/mid ce...</td>\n",
       "      <td>review</td>\n",
       "      <td>2</td>\n",
       "      <td>GJ7PTY7huYORFKKg3db3Gw</td>\n",
       "    </tr>\n",
       "    <tr>\n",
       "      <th>8</th>\n",
       "      <td>2LfIuF3_sX6uwe-IR-P0jQ</td>\n",
       "      <td>0</td>\n",
       "      <td>2015-10-11</td>\n",
       "      <td>0</td>\n",
       "      <td>zNUSxqflZKgKD1NQH3jdFA</td>\n",
       "      <td>5</td>\n",
       "      <td>This is the place to go for all your Mid Centu...</td>\n",
       "      <td>review</td>\n",
       "      <td>0</td>\n",
       "      <td>rxqp9eXZj1jYTn0UIsm3Hg</td>\n",
       "    </tr>\n",
       "    <tr>\n",
       "      <th>9</th>\n",
       "      <td>2LfIuF3_sX6uwe-IR-P0jQ</td>\n",
       "      <td>0</td>\n",
       "      <td>2015-04-05</td>\n",
       "      <td>0</td>\n",
       "      <td>LkP1l7sZIwOV6IKNLqQp_A</td>\n",
       "      <td>5</td>\n",
       "      <td>Great items at a good price.  Helpful, easy to...</td>\n",
       "      <td>review</td>\n",
       "      <td>0</td>\n",
       "      <td>UU0nHQtHPMAfLidk8tOHTg</td>\n",
       "    </tr>\n",
       "  </tbody>\n",
       "</table>\n",
       "</div>"
      ],
      "text/plain": [
       "              business_id  cool        date  funny               review_id  \\\n",
       "0  2aFiy99vNLklCx3T_tGS9A     0  2011-10-10      0  NxL8SIC5yqOdnlXCg18IBg   \n",
       "1  2aFiy99vNLklCx3T_tGS9A     0  2010-12-29      0  pXbbIgOXvLuTi_SPs1hQEQ   \n",
       "2  2aFiy99vNLklCx3T_tGS9A     0  2011-04-29      0  wslW2Lu4NYylb1jEapAGsw   \n",
       "3  2LfIuF3_sX6uwe-IR-P0jQ     1  2014-07-14      0  GP6YEearUWrzPtQYSF1vVg   \n",
       "4  2LfIuF3_sX6uwe-IR-P0jQ     0  2014-01-15      0  25RlYGq2s5qShi-pn3ufVA   \n",
       "5  2LfIuF3_sX6uwe-IR-P0jQ     1  2013-04-28      0  Uf1Ki1yyH_JDKhLvn2e4FQ   \n",
       "6  2LfIuF3_sX6uwe-IR-P0jQ     0  2014-10-12      0  oFmVZh-La7SuvpHrH_Al4Q   \n",
       "7  2LfIuF3_sX6uwe-IR-P0jQ     0  2012-09-18      0  bRvdVt88MJ_YMTlLbjDLxQ   \n",
       "8  2LfIuF3_sX6uwe-IR-P0jQ     0  2015-10-11      0  zNUSxqflZKgKD1NQH3jdFA   \n",
       "9  2LfIuF3_sX6uwe-IR-P0jQ     0  2015-04-05      0  LkP1l7sZIwOV6IKNLqQp_A   \n",
       "\n",
       "   stars                                               text    type  useful  \\\n",
       "0      5  If you enjoy service by someone who is as comp...  review       0   \n",
       "1      5  After being on the phone with Verizon Wireless...  review       1   \n",
       "2      5  Great service! Corey is very service oriented....  review       0   \n",
       "3      5  Highly recommended. Went in yesterday looking ...  review       0   \n",
       "4      4  I walked in here looking for a specific piece ...  review       0   \n",
       "5      5  What a great place! Modern on Melrose has amaz...  review       2   \n",
       "6      4  A hidden gem! Found a beautiful buffet for a g...  review       0   \n",
       "7      5  This place is a great for those vintage/mid ce...  review       2   \n",
       "8      5  This is the place to go for all your Mid Centu...  review       0   \n",
       "9      5  Great items at a good price.  Helpful, easy to...  review       0   \n",
       "\n",
       "                  user_id  \n",
       "0  KpkOkG6RIf4Ra25Lhhxf1A  \n",
       "1  bQ7fQq1otn9hKX-gXRsrgA  \n",
       "2  r1NUhdNmL6yU9Bn-Yx6FTw  \n",
       "3  aW3ix1KNZAvoM8q-WghA3Q  \n",
       "4  YOo-Cip8HqvKp_p9nEGphw  \n",
       "5  bgl3j8yJcRO-00NkUYsXGQ  \n",
       "6  CWKF9de-nskLYEqDDCfubg  \n",
       "7  GJ7PTY7huYORFKKg3db3Gw  \n",
       "8  rxqp9eXZj1jYTn0UIsm3Hg  \n",
       "9  UU0nHQtHPMAfLidk8tOHTg  "
      ]
     },
     "execution_count": 5,
     "metadata": {},
     "output_type": "execute_result"
    }
   ],
   "source": [
    "df = get_full_df(first_10_file)\n",
    "df.head(10)"
   ]
  },
  {
   "cell_type": "code",
   "execution_count": 6,
   "metadata": {
    "collapsed": false
   },
   "outputs": [
    {
     "data": {
      "text/html": [
       "<div>\n",
       "<table border=\"1\" class=\"dataframe\">\n",
       "  <thead>\n",
       "    <tr style=\"text-align: right;\">\n",
       "      <th></th>\n",
       "      <th>business_id</th>\n",
       "      <th>cool</th>\n",
       "      <th>date</th>\n",
       "      <th>funny</th>\n",
       "      <th>review_id</th>\n",
       "      <th>stars</th>\n",
       "      <th>text</th>\n",
       "      <th>type</th>\n",
       "      <th>useful</th>\n",
       "      <th>user_id</th>\n",
       "    </tr>\n",
       "  </thead>\n",
       "  <tbody>\n",
       "    <tr>\n",
       "      <th>0</th>\n",
       "      <td>2aFiy99vNLklCx3T_tGS9A</td>\n",
       "      <td>0</td>\n",
       "      <td>2011-10-10</td>\n",
       "      <td>0</td>\n",
       "      <td>NxL8SIC5yqOdnlXCg18IBg</td>\n",
       "      <td>5</td>\n",
       "      <td>If you enjoy service by someone who is as comp...</td>\n",
       "      <td>review</td>\n",
       "      <td>0</td>\n",
       "      <td>KpkOkG6RIf4Ra25Lhhxf1A</td>\n",
       "    </tr>\n",
       "    <tr>\n",
       "      <th>1</th>\n",
       "      <td>2aFiy99vNLklCx3T_tGS9A</td>\n",
       "      <td>0</td>\n",
       "      <td>2010-12-29</td>\n",
       "      <td>0</td>\n",
       "      <td>pXbbIgOXvLuTi_SPs1hQEQ</td>\n",
       "      <td>5</td>\n",
       "      <td>After being on the phone with Verizon Wireless...</td>\n",
       "      <td>review</td>\n",
       "      <td>1</td>\n",
       "      <td>bQ7fQq1otn9hKX-gXRsrgA</td>\n",
       "    </tr>\n",
       "    <tr>\n",
       "      <th>2</th>\n",
       "      <td>2aFiy99vNLklCx3T_tGS9A</td>\n",
       "      <td>0</td>\n",
       "      <td>2011-04-29</td>\n",
       "      <td>0</td>\n",
       "      <td>wslW2Lu4NYylb1jEapAGsw</td>\n",
       "      <td>5</td>\n",
       "      <td>Great service! Corey is very service oriented....</td>\n",
       "      <td>review</td>\n",
       "      <td>0</td>\n",
       "      <td>r1NUhdNmL6yU9Bn-Yx6FTw</td>\n",
       "    </tr>\n",
       "    <tr>\n",
       "      <th>3</th>\n",
       "      <td>2LfIuF3_sX6uwe-IR-P0jQ</td>\n",
       "      <td>1</td>\n",
       "      <td>2014-07-14</td>\n",
       "      <td>0</td>\n",
       "      <td>GP6YEearUWrzPtQYSF1vVg</td>\n",
       "      <td>5</td>\n",
       "      <td>Highly recommended. Went in yesterday looking ...</td>\n",
       "      <td>review</td>\n",
       "      <td>0</td>\n",
       "      <td>aW3ix1KNZAvoM8q-WghA3Q</td>\n",
       "    </tr>\n",
       "    <tr>\n",
       "      <th>4</th>\n",
       "      <td>2LfIuF3_sX6uwe-IR-P0jQ</td>\n",
       "      <td>0</td>\n",
       "      <td>2014-01-15</td>\n",
       "      <td>0</td>\n",
       "      <td>25RlYGq2s5qShi-pn3ufVA</td>\n",
       "      <td>4</td>\n",
       "      <td>I walked in here looking for a specific piece ...</td>\n",
       "      <td>review</td>\n",
       "      <td>0</td>\n",
       "      <td>YOo-Cip8HqvKp_p9nEGphw</td>\n",
       "    </tr>\n",
       "  </tbody>\n",
       "</table>\n",
       "</div>"
      ],
      "text/plain": [
       "              business_id  cool        date  funny               review_id  \\\n",
       "0  2aFiy99vNLklCx3T_tGS9A     0  2011-10-10      0  NxL8SIC5yqOdnlXCg18IBg   \n",
       "1  2aFiy99vNLklCx3T_tGS9A     0  2010-12-29      0  pXbbIgOXvLuTi_SPs1hQEQ   \n",
       "2  2aFiy99vNLklCx3T_tGS9A     0  2011-04-29      0  wslW2Lu4NYylb1jEapAGsw   \n",
       "3  2LfIuF3_sX6uwe-IR-P0jQ     1  2014-07-14      0  GP6YEearUWrzPtQYSF1vVg   \n",
       "4  2LfIuF3_sX6uwe-IR-P0jQ     0  2014-01-15      0  25RlYGq2s5qShi-pn3ufVA   \n",
       "\n",
       "   stars                                               text    type  useful  \\\n",
       "0      5  If you enjoy service by someone who is as comp...  review       0   \n",
       "1      5  After being on the phone with Verizon Wireless...  review       1   \n",
       "2      5  Great service! Corey is very service oriented....  review       0   \n",
       "3      5  Highly recommended. Went in yesterday looking ...  review       0   \n",
       "4      4  I walked in here looking for a specific piece ...  review       0   \n",
       "\n",
       "                  user_id  \n",
       "0  KpkOkG6RIf4Ra25Lhhxf1A  \n",
       "1  bQ7fQq1otn9hKX-gXRsrgA  \n",
       "2  r1NUhdNmL6yU9Bn-Yx6FTw  \n",
       "3  aW3ix1KNZAvoM8q-WghA3Q  \n",
       "4  YOo-Cip8HqvKp_p9nEGphw  "
      ]
     },
     "execution_count": 6,
     "metadata": {},
     "output_type": "execute_result"
    }
   ],
   "source": [
    "df = get_full_df(first_10_file, 5)\n",
    "df.head(10)"
   ]
  },
  {
   "cell_type": "code",
   "execution_count": 7,
   "metadata": {
    "collapsed": false
   },
   "outputs": [
    {
     "data": {
      "text/html": [
       "<div>\n",
       "<table border=\"1\" class=\"dataframe\">\n",
       "  <thead>\n",
       "    <tr style=\"text-align: right;\">\n",
       "      <th></th>\n",
       "      <th>stars</th>\n",
       "      <th>text</th>\n",
       "    </tr>\n",
       "  </thead>\n",
       "  <tbody>\n",
       "    <tr>\n",
       "      <th>0</th>\n",
       "      <td>5</td>\n",
       "      <td>If you enjoy service by someone who is as comp...</td>\n",
       "    </tr>\n",
       "    <tr>\n",
       "      <th>1</th>\n",
       "      <td>5</td>\n",
       "      <td>After being on the phone with Verizon Wireless...</td>\n",
       "    </tr>\n",
       "    <tr>\n",
       "      <th>2</th>\n",
       "      <td>5</td>\n",
       "      <td>Great service! Corey is very service oriented....</td>\n",
       "    </tr>\n",
       "    <tr>\n",
       "      <th>3</th>\n",
       "      <td>5</td>\n",
       "      <td>Highly recommended. Went in yesterday looking ...</td>\n",
       "    </tr>\n",
       "    <tr>\n",
       "      <th>4</th>\n",
       "      <td>4</td>\n",
       "      <td>I walked in here looking for a specific piece ...</td>\n",
       "    </tr>\n",
       "    <tr>\n",
       "      <th>5</th>\n",
       "      <td>5</td>\n",
       "      <td>What a great place! Modern on Melrose has amaz...</td>\n",
       "    </tr>\n",
       "    <tr>\n",
       "      <th>6</th>\n",
       "      <td>4</td>\n",
       "      <td>A hidden gem! Found a beautiful buffet for a g...</td>\n",
       "    </tr>\n",
       "    <tr>\n",
       "      <th>7</th>\n",
       "      <td>5</td>\n",
       "      <td>This place is a great for those vintage/mid ce...</td>\n",
       "    </tr>\n",
       "    <tr>\n",
       "      <th>8</th>\n",
       "      <td>5</td>\n",
       "      <td>This is the place to go for all your Mid Centu...</td>\n",
       "    </tr>\n",
       "    <tr>\n",
       "      <th>9</th>\n",
       "      <td>5</td>\n",
       "      <td>Great items at a good price.  Helpful, easy to...</td>\n",
       "    </tr>\n",
       "  </tbody>\n",
       "</table>\n",
       "</div>"
      ],
      "text/plain": [
       "   stars                                               text\n",
       "0      5  If you enjoy service by someone who is as comp...\n",
       "1      5  After being on the phone with Verizon Wireless...\n",
       "2      5  Great service! Corey is very service oriented....\n",
       "3      5  Highly recommended. Went in yesterday looking ...\n",
       "4      4  I walked in here looking for a specific piece ...\n",
       "5      5  What a great place! Modern on Melrose has amaz...\n",
       "6      4  A hidden gem! Found a beautiful buffet for a g...\n",
       "7      5  This place is a great for those vintage/mid ce...\n",
       "8      5  This is the place to go for all your Mid Centu...\n",
       "9      5  Great items at a good price.  Helpful, easy to..."
      ]
     },
     "execution_count": 7,
     "metadata": {},
     "output_type": "execute_result"
    }
   ],
   "source": [
    "df = get_text_and_stars_df(first_10_file)\n",
    "df.head(10)"
   ]
  },
  {
   "cell_type": "code",
   "execution_count": 8,
   "metadata": {
    "collapsed": false
   },
   "outputs": [
    {
     "data": {
      "text/html": [
       "<div>\n",
       "<table border=\"1\" class=\"dataframe\">\n",
       "  <thead>\n",
       "    <tr style=\"text-align: right;\">\n",
       "      <th></th>\n",
       "      <th>stars</th>\n",
       "      <th>text</th>\n",
       "    </tr>\n",
       "  </thead>\n",
       "  <tbody>\n",
       "    <tr>\n",
       "      <th>0</th>\n",
       "      <td>5</td>\n",
       "      <td>If you enjoy service by someone who is as comp...</td>\n",
       "    </tr>\n",
       "    <tr>\n",
       "      <th>1</th>\n",
       "      <td>5</td>\n",
       "      <td>After being on the phone with Verizon Wireless...</td>\n",
       "    </tr>\n",
       "    <tr>\n",
       "      <th>2</th>\n",
       "      <td>5</td>\n",
       "      <td>Great service! Corey is very service oriented....</td>\n",
       "    </tr>\n",
       "    <tr>\n",
       "      <th>3</th>\n",
       "      <td>5</td>\n",
       "      <td>Highly recommended. Went in yesterday looking ...</td>\n",
       "    </tr>\n",
       "    <tr>\n",
       "      <th>4</th>\n",
       "      <td>4</td>\n",
       "      <td>I walked in here looking for a specific piece ...</td>\n",
       "    </tr>\n",
       "  </tbody>\n",
       "</table>\n",
       "</div>"
      ],
      "text/plain": [
       "   stars                                               text\n",
       "0      5  If you enjoy service by someone who is as comp...\n",
       "1      5  After being on the phone with Verizon Wireless...\n",
       "2      5  Great service! Corey is very service oriented....\n",
       "3      5  Highly recommended. Went in yesterday looking ...\n",
       "4      4  I walked in here looking for a specific piece ..."
      ]
     },
     "execution_count": 8,
     "metadata": {},
     "output_type": "execute_result"
    }
   ],
   "source": [
    "df = get_text_and_stars_df(first_10_file, 5)\n",
    "df.head(10)"
   ]
  },
  {
   "cell_type": "markdown",
   "metadata": {},
   "source": [
    "# Measure read-in time for different amounts of lines read in"
   ]
  },
  {
   "cell_type": "code",
   "execution_count": 9,
   "metadata": {
    "collapsed": false
   },
   "outputs": [
    {
     "name": "stdout",
     "output_type": "stream",
     "text": [
      "n = 10000\n",
      "1 loop, best of 1: 365 ms per loop\n",
      "n = 50000\n",
      "1 loop, best of 1: 1.11 s per loop\n",
      "n = 100000\n",
      "1 loop, best of 1: 2.29 s per loop\n"
     ]
    }
   ],
   "source": [
    "# n_vals = [10000, 50000, 100000, 500000]\n",
    "n_vals = [10000, 50000, 100000]\n",
    "for n in n_vals:\n",
    "    print('n = {}'.format(n))\n",
    "    %timeit -r1 get_full_df(all_reviews_file, n)\n",
    "\n",
    "# n = 10000\n",
    "# 1 loop, best of 3: 212 ms per loop\n",
    "# n = 50000\n",
    "# 1 loop, best of 3: 1.03 s per loop\n",
    "# n = 100000\n",
    "# 1 loop, best of 3: 2.1 s per loop\n",
    "# n = 500000\n",
    "# 1 loop, best of 3: 19.7 s per loop"
   ]
  },
  {
   "cell_type": "markdown",
   "metadata": {},
   "source": [
    "When reading in the all the data from each line, my read-in time breaks from linear scaling with $n$ between $n=100000$ and $n=500000$"
   ]
  },
  {
   "cell_type": "code",
   "execution_count": 10,
   "metadata": {
    "collapsed": false
   },
   "outputs": [
    {
     "name": "stdout",
     "output_type": "stream",
     "text": [
      "n = 10000\n",
      "10 loops, best of 1: 191 ms per loop\n",
      "n = 50000\n",
      "1 loop, best of 1: 922 ms per loop\n",
      "n = 100000\n",
      "1 loop, best of 1: 1.94 s per loop\n",
      "n = 500000\n",
      "1 loop, best of 1: 9.56 s per loop\n"
     ]
    }
   ],
   "source": [
    "# n_vals = [10000, 50000, 100000, 500000, 1000000]\n",
    "n_vals = [10000, 50000, 100000, 500000]\n",
    "for n in n_vals:\n",
    "    print('n = {}'.format(n))\n",
    "    %timeit -r1 get_text_and_stars_df(all_reviews_file, n)\n",
    "\n",
    "# n = 10000\n",
    "# 1 loop, best of 1: 193 ms per loop\n",
    "# n = 50000\n",
    "# 1 loop, best of 1: 947 ms per loop\n",
    "# n = 100000\n",
    "# 1 loop, best of 1: 2.13 s per loop\n",
    "# n = 500000\n",
    "# 1 loop, best of 1: 9.55 s per loop\n",
    "# n = 1000000\n",
    "# 1 loop, best of 1: 47.4 s per loop"
   ]
  },
  {
   "cell_type": "markdown",
   "metadata": {},
   "source": [
    "If I just store the text and stars data from each line, my read-in time breaks from linear scaling with $n$ between $n=500,\\!000$ and $n=1,\\!000,\\!000$. I think this means I'm hitting memory limitations on my computer after 500,000 lines. Since there are 4,153,150 rows of data, memory limitations will play a major role in analyzing these data. This means we'll need to use methods that are smart about what is stored and when to avoid overloading memory."
   ]
  },
  {
   "cell_type": "code",
   "execution_count": 11,
   "metadata": {
    "collapsed": false
   },
   "outputs": [
    {
     "name": "stdout",
     "output_type": "stream",
     "text": [
      "<class 'pandas.core.frame.DataFrame'>\n",
      "RangeIndex: 500000 entries, 0 to 499999\n",
      "Data columns (total 2 columns):\n",
      "stars    500000 non-null int64\n",
      "text     500000 non-null object\n",
      "dtypes: int64(1), object(1)\n",
      "memory usage: 336.7 MB\n"
     ]
    }
   ],
   "source": [
    "df = get_text_and_stars_df(all_reviews_file, 500000)\n",
    "df.info(memory_usage='deep')"
   ]
  },
  {
   "cell_type": "markdown",
   "metadata": {
    "collapsed": true
   },
   "source": [
    "With 500,000 rows, the dataframe is 336.7 MB. The full dataframe would be about 2.8 GB."
   ]
  }
 ],
 "metadata": {
  "kernelspec": {
   "display_name": "Python 3",
   "language": "python",
   "name": "python3"
  },
  "language_info": {
   "codemirror_mode": {
    "name": "ipython",
    "version": 3
   },
   "file_extension": ".py",
   "mimetype": "text/x-python",
   "name": "python",
   "nbconvert_exporter": "python",
   "pygments_lexer": "ipython3",
   "version": "3.6.0"
  }
 },
 "nbformat": 4,
 "nbformat_minor": 2
}
