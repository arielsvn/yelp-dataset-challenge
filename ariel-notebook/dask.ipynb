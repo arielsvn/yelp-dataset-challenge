{
 "cells": [
  {
   "cell_type": "code",
   "execution_count": 1,
   "metadata": {
    "collapsed": false,
    "scrolled": true
   },
   "outputs": [
    {
     "name": "stdout",
     "output_type": "stream",
     "text": [
      "Help on module main:\n",
      "\n",
      "NAME\n",
      "    main - Helper functions for Yelp dataset challenge\n",
      "\n",
      "FUNCTIONS\n",
      "    convert_data_file(json_file_name, output, max_files=50000000000000002382364672)\n",
      "        Converts the provided json files to sepparate CSV files in the output folder, call it with:\n",
      "        convert_data_file('../raw-data/yelp_academic_dataset_review.json', '../raw-data/reviews/file-')\n",
      "        and it will all files into the reviews folder: reviews/file-1.csv, reviews/file-2.csv, etc\n",
      "    \n",
      "    create_single_csv(json_file_name, output, exclude=[], max_lines=False)\n",
      "        converts the entered JSON file into a single CSV, excluding the rows whose indexes appear in exclude\n",
      "        max - is the maximum number of lines to be processed\n",
      "    \n",
      "    load_json_lines(fname)\n",
      "        Yields the JSON data in fname, which should have one JSON object per line\n",
      "\n",
      "FILE\n",
      "    /home/ariel/work/yelp/yelp-dataset-challenge/ariel-notebook/main.py\n",
      "\n",
      "\n"
     ]
    }
   ],
   "source": [
    "%matplotlib inline\n",
    "%load_ext autoreload\n",
    "%autoreload 1\n",
    "%aimport main\n",
    "\n",
    "all_reviews_file = '../raw-data/yelp_academic_dataset_review.csv'\n",
    "\n",
    "help(main)"
   ]
  },
  {
   "cell_type": "markdown",
   "metadata": {},
   "source": [
    "Convert the JSON file into a CSV file. This operation only needs to be executed once"
   ]
  },
  {
   "cell_type": "code",
   "execution_count": 2,
   "metadata": {
    "collapsed": false
   },
   "outputs": [
    {
     "name": "stdout",
     "output_type": "stream",
     "text": [
      "CPU times: user 2min 38s, sys: 3.58 s, total: 2min 42s\n",
      "Wall time: 2min 51s\n"
     ]
    }
   ],
   "source": [
    "%%time\n",
    "main.create_single_csv('../raw-data/yelp_academic_dataset_review.json', all_reviews_file)"
   ]
  },
  {
   "cell_type": "code",
   "execution_count": 3,
   "metadata": {
    "collapsed": false
   },
   "outputs": [
    {
     "data": {
      "text/html": [
       "<div>\n",
       "<table border=\"1\" class=\"dataframe\">\n",
       "  <thead>\n",
       "    <tr style=\"text-align: right;\">\n",
       "      <th></th>\n",
       "      <th>date</th>\n",
       "      <th>useful</th>\n",
       "      <th>cool</th>\n",
       "      <th>stars</th>\n",
       "      <th>text</th>\n",
       "      <th>type</th>\n",
       "      <th>business_id</th>\n",
       "      <th>funny</th>\n",
       "      <th>user_id</th>\n",
       "      <th>review_id</th>\n",
       "    </tr>\n",
       "  </thead>\n",
       "  <tbody>\n",
       "    <tr>\n",
       "      <th>0</th>\n",
       "      <td>2011-10-10</td>\n",
       "      <td>0</td>\n",
       "      <td>0</td>\n",
       "      <td>5</td>\n",
       "      <td>If you enjoy service by someone who is as comp...</td>\n",
       "      <td>review</td>\n",
       "      <td>2aFiy99vNLklCx3T_tGS9A</td>\n",
       "      <td>0.0</td>\n",
       "      <td>KpkOkG6RIf4Ra25Lhhxf1A</td>\n",
       "      <td>NxL8SIC5yqOdnlXCg18IBg</td>\n",
       "    </tr>\n",
       "    <tr>\n",
       "      <th>1</th>\n",
       "      <td>2010-12-29</td>\n",
       "      <td>1</td>\n",
       "      <td>0</td>\n",
       "      <td>5</td>\n",
       "      <td>After being on the phone with Verizon Wireless...</td>\n",
       "      <td>review</td>\n",
       "      <td>2aFiy99vNLklCx3T_tGS9A</td>\n",
       "      <td>0.0</td>\n",
       "      <td>bQ7fQq1otn9hKX-gXRsrgA</td>\n",
       "      <td>pXbbIgOXvLuTi_SPs1hQEQ</td>\n",
       "    </tr>\n",
       "    <tr>\n",
       "      <th>2</th>\n",
       "      <td>2011-04-29</td>\n",
       "      <td>0</td>\n",
       "      <td>0</td>\n",
       "      <td>5</td>\n",
       "      <td>Great service Corey is very service oriented. ...</td>\n",
       "      <td>review</td>\n",
       "      <td>2aFiy99vNLklCx3T_tGS9A</td>\n",
       "      <td>0.0</td>\n",
       "      <td>r1NUhdNmL6yU9Bn-Yx6FTw</td>\n",
       "      <td>wslW2Lu4NYylb1jEapAGsw</td>\n",
       "    </tr>\n",
       "    <tr>\n",
       "      <th>3</th>\n",
       "      <td>2014-07-14</td>\n",
       "      <td>0</td>\n",
       "      <td>1</td>\n",
       "      <td>5</td>\n",
       "      <td>Highly recommended. Went in yesterday looking ...</td>\n",
       "      <td>review</td>\n",
       "      <td>2LfIuF3_sX6uwe-IR-P0jQ</td>\n",
       "      <td>0.0</td>\n",
       "      <td>aW3ix1KNZAvoM8q-WghA3Q</td>\n",
       "      <td>GP6YEearUWrzPtQYSF1vVg</td>\n",
       "    </tr>\n",
       "    <tr>\n",
       "      <th>4</th>\n",
       "      <td>2014-01-15</td>\n",
       "      <td>0</td>\n",
       "      <td>0</td>\n",
       "      <td>4</td>\n",
       "      <td>I walked in here looking for a specific piece ...</td>\n",
       "      <td>review</td>\n",
       "      <td>2LfIuF3_sX6uwe-IR-P0jQ</td>\n",
       "      <td>0.0</td>\n",
       "      <td>YOo-Cip8HqvKp_p9nEGphw</td>\n",
       "      <td>25RlYGq2s5qShi-pn3ufVA</td>\n",
       "    </tr>\n",
       "  </tbody>\n",
       "</table>\n",
       "</div>"
      ],
      "text/plain": [
       "         date  useful  cool  stars  \\\n",
       "0  2011-10-10       0     0      5   \n",
       "1  2010-12-29       1     0      5   \n",
       "2  2011-04-29       0     0      5   \n",
       "3  2014-07-14       0     1      5   \n",
       "4  2014-01-15       0     0      4   \n",
       "\n",
       "                                                text    type  \\\n",
       "0  If you enjoy service by someone who is as comp...  review   \n",
       "1  After being on the phone with Verizon Wireless...  review   \n",
       "2  Great service Corey is very service oriented. ...  review   \n",
       "3  Highly recommended. Went in yesterday looking ...  review   \n",
       "4  I walked in here looking for a specific piece ...  review   \n",
       "\n",
       "              business_id  funny                 user_id  \\\n",
       "0  2aFiy99vNLklCx3T_tGS9A    0.0  KpkOkG6RIf4Ra25Lhhxf1A   \n",
       "1  2aFiy99vNLklCx3T_tGS9A    0.0  bQ7fQq1otn9hKX-gXRsrgA   \n",
       "2  2aFiy99vNLklCx3T_tGS9A    0.0  r1NUhdNmL6yU9Bn-Yx6FTw   \n",
       "3  2LfIuF3_sX6uwe-IR-P0jQ    0.0  aW3ix1KNZAvoM8q-WghA3Q   \n",
       "4  2LfIuF3_sX6uwe-IR-P0jQ    0.0  YOo-Cip8HqvKp_p9nEGphw   \n",
       "\n",
       "                review_id  \n",
       "0  NxL8SIC5yqOdnlXCg18IBg  \n",
       "1  pXbbIgOXvLuTi_SPs1hQEQ  \n",
       "2  wslW2Lu4NYylb1jEapAGsw  \n",
       "3  GP6YEearUWrzPtQYSF1vVg  \n",
       "4  25RlYGq2s5qShi-pn3ufVA  "
      ]
     },
     "execution_count": 3,
     "metadata": {},
     "output_type": "execute_result"
    }
   ],
   "source": [
    "# error parsing csv https://github.com/pandas-dev/pandas/issues/5500\n",
    "import dask.dataframe as dd\n",
    "df = dd.read_csv(all_reviews_file, blocksize=int(25e6))  # 25MB chunks  \n",
    "df.head()"
   ]
  },
  {
   "cell_type": "code",
   "execution_count": 7,
   "metadata": {
    "collapsed": false,
    "scrolled": false
   },
   "outputs": [
    {
     "name": "stdout",
     "output_type": "stream",
     "text": [
      "CPU times: user 31.8 s, sys: 2.44 s, total: 34.3 s\n",
      "Wall time: 24.1 s\n"
     ]
    },
    {
     "data": {
      "text/plain": [
       "<matplotlib.axes._subplots.AxesSubplot at 0x7f59b009e978>"
      ]
     },
     "execution_count": 7,
     "metadata": {},
     "output_type": "execute_result"
    },
    {
     "data": {
      "image/png": "[encoded data removed]",
      "text/plain": [
       "<matplotlib.figure.Figure at 0x7f59a912d7f0>"
      ]
     },
     "metadata": {},
     "output_type": "display_data"
    }
   ],
   "source": [
    "%%time\n",
    "df.stars.value_counts().compute().sort_index().plot(kind='bar')"
   ]
  },
  {
   "cell_type": "code",
   "execution_count": 9,
   "metadata": {
    "collapsed": false
   },
   "outputs": [
    {
     "data": {
      "text/plain": [
       "CxDOIDnH8gp9KXzpBHJYXw    3327\n",
       "bLbSNkLggFnqwNNzzq-Ijw    1795\n",
       "PKEzKWv_FktMm2mGPjwd0Q    1509\n",
       "QJI9OSEn6ujRCtrX06vs1w    1316\n",
       "DK57YibC5ShBmqQl97CKog    1266\n",
       "Name: user_id, dtype: int64"
      ]
     },
     "execution_count": 9,
     "metadata": {},
     "output_type": "execute_result"
    }
   ],
   "source": [
    "df.user_id.value_counts().head()"
   ]
  },
  {
   "cell_type": "code",
   "execution_count": 10,
   "metadata": {
    "collapsed": false
   },
   "outputs": [
    {
     "data": {
      "image/png": "[encoded data removed]",
      "text/plain": [
       "<matplotlib.figure.Figure at 0x7f59a82622b0>"
      ]
     },
     "metadata": {},
     "output_type": "display_data"
    }
   ],
   "source": [
    "def plot_user_ratings(user_id): df[df.user_id == user_id].stars.value_counts().compute().sort_index().plot(kind='bar')\n",
    "plot_user_ratings('hWDybu_KvYLSdEFzGrniTw')"
   ]
  },
  {
   "cell_type": "code",
   "execution_count": 4,
   "metadata": {
    "collapsed": false
   },
   "outputs": [
    {
     "data": {
      "text/plain": [
       "4JNXUYY8wbaaDmk3BPzlWw    6414\n",
       "RESDUcs7fIiihp38-d6_6g    5715\n",
       "K7lWdNUhCbcnEvI0NhGewg    5216\n",
       "cYwJA2A6I12KNkm2rtXd5g    5116\n",
       "DkYS3arLOhA8si5uUEmHOw    4655\n",
       "Name: business_id, dtype: int64"
      ]
     },
     "execution_count": 4,
     "metadata": {},
     "output_type": "execute_result"
    }
   ],
   "source": [
    "df.business_id.value_counts().head()"
   ]
  },
  {
   "cell_type": "code",
   "execution_count": 6,
   "metadata": {
    "collapsed": false
   },
   "outputs": [
    {
     "data": {
      "image/png": "[encoded data removed]",
      "text/plain": [
       "<matplotlib.figure.Figure at 0x7f8fffd8a6d8>"
      ]
     },
     "metadata": {},
     "output_type": "display_data"
    }
   ],
   "source": [
    "def plot_business_ratings(business_id): df[df.business_id == business_id].stars.value_counts().compute().sort_index().plot(kind='bar')\n",
    "plot_business_ratings('DkYS3arLOhA8si5uUEmHOw')"
   ]
  }
 ],
 "metadata": {
  "anaconda-cloud": {},
  "kernelspec": {
   "display_name": "Python [default]",
   "language": "python",
   "name": "python3"
  },
  "language_info": {
   "codemirror_mode": {
    "name": "ipython",
    "version": 3
   },
   "file_extension": ".py",
   "mimetype": "text/x-python",
   "name": "python",
   "nbconvert_exporter": "python",
   "pygments_lexer": "ipython3",
   "version": "3.5.2"
  }
 },
 "nbformat": 4,
 "nbformat_minor": 1
}
